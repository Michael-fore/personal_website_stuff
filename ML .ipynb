{
 "cells": [
  {
   "cell_type": "code",
   "execution_count": 3,
   "metadata": {},
   "outputs": [],
   "source": [
    "import torchvision.models as models\n",
    "import torch\n",
    "import torchvision.transforms as transform\n",
    "\n",
    "class ImageHandle:\n",
    "    '''TAkes care of img loading and sizing/transform. '''\n",
    "    def __init__(self):\n",
    "        self.loader = transform.Compose([    transform.Resize((500,500)),\n",
    "                                            transform.ToTensor(),\n",
    "                                            transform.Normalize(mean=[0.485, 0.456, 0.406],\n",
    "                                            std=[0.229, 0.224, 0.225])])\n",
    "    def load(self, img):\n",
    "        self.img = self.loader(img).unsqueeze(0) #add dummy dim for 3d to 4d\n",
    "\n",
    "\n",
    "class DeepModels(ImageHandle):\n",
    "    '''Class prepares deep models for use, loads corrects answer sets, classifies.'''\n",
    "    modes = {'AlexNet': models.alexnet(pretrained=True),\n",
    "            'DenseNet': models.densenet161(pretrained=True),\n",
    "            'GoogleNet': models.googlenet(pretrained=True)\n",
    "            ,'Inception_V3': models.inception_v3(pretrained=True)\n",
    "            }\n",
    "    def __init__(self, mode):\n",
    "\n",
    "        if mode not in modes.keys():\n",
    "            raise KeyError('Needs to be AlexNet, DenseNet, GoogleNet, Inception_V3')\n",
    "        \n",
    "        self.net = self.modes.get(mode)\n",
    "\n",
    "    def classify(self,  img):\n",
    "        return self.net(img)\n",
    "        "
   ]
  },
  {
   "cell_type": "code",
   "execution_count": null,
   "metadata": {},
   "outputs": [],
   "source": []
  }
 ],
 "metadata": {
  "kernelspec": {
   "display_name": "Python 3",
   "language": "python",
   "name": "python3"
  },
  "language_info": {
   "codemirror_mode": {
    "name": "ipython",
    "version": 3
   },
   "file_extension": ".py",
   "mimetype": "text/x-python",
   "name": "python",
   "nbconvert_exporter": "python",
   "pygments_lexer": "ipython3",
   "version": "3.6.9"
  }
 },
 "nbformat": 4,
 "nbformat_minor": 4
}
